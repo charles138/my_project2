{
 "cells": [
  {
   "cell_type": "markdown",
   "metadata": {
    "application/vnd.databricks.v1+cell": {
     "cellMetadata": {},
     "inputWidgets": {},
     "nuid": "ee353e42-ff58-4955-9608-12865bd0950e",
     "showTitle": false,
     "title": ""
    }
   },
   "source": [
    "# Default notebook\n",
    "\n",
    "This default notebook is executed using Databricks Workflows as defined in resources/my_project2_job.yml."
   ]
  },
  {
   "cell_type": "code",
   "execution_count": 0,
   "metadata": {
    "application/vnd.databricks.v1+cell": {
     "cellMetadata": {
      "byteLimit": 2048000,
      "rowLimit": 10000
     },
     "inputWidgets": {},
     "nuid": "a2e0653a-3b01-4dfa-874a-9d078e677fad",
     "showTitle": false,
     "title": ""
    }
   },
   "outputs": [],
   "source": [
    "dbutils.widgets.dropdown(\"Environment\", \"Dev\", [\"Dev\", \"Staging\", \"Prod\"])\n",
    "env = dbutils.widgets.get(\"Environment\")\n",
    "print(env)"
   ]
  },
  {
   "cell_type": "code",
   "execution_count": 0,
   "metadata": {
    "application/vnd.databricks.v1+cell": {
     "cellMetadata": {
      "byteLimit": 2048000,
      "rowLimit": 10000
     },
     "inputWidgets": {},
     "nuid": "0382498f-c13a-4a33-b509-6a5261a8037a",
     "showTitle": false,
     "title": ""
    }
   },
   "outputs": [],
   "source": [
    "dbutils.widgets.text(\"top_k\", \"5\")\n",
    "top_k = int(dbutils.widgets.get(\"top_k\"))\n",
    "\n",
    "print(top_k, top_k * top_k)"
   ]
  },
  {
   "cell_type": "code",
   "execution_count": 0,
   "metadata": {
    "application/vnd.databricks.v1+cell": {
     "cellMetadata": {
      "byteLimit": 2048000,
      "rowLimit": 10000
     },
     "inputWidgets": {},
     "nuid": "6bca260b-13d1-448f-8082-30b60a85c9ae",
     "showTitle": false,
     "title": ""
    }
   },
   "outputs": [],
   "source": [
    "spark.range(top_k).show()"
   ]
  }
 ],
 "metadata": {
  "application/vnd.databricks.v1+notebook": {
   "dashboards": [],
   "language": "python",
   "notebookMetadata": {
    "pythonIndentUnit": 2
   },
   "notebookName": "notebook",
   "widgets": {
    "Environment": {
     "currentValue": "Dev",
     "nuid": "54c811c5-d6fd-400e-9b8e-0d2d2a71167e",
     "widgetInfo": {
      "widgetType": "dropdown",
      "defaultValue": "Dev",
      "label": null,
      "name": "Environment",
      "options": {
       "widgetType": "dropdown",
       "choices": [
        "Dev",
        "Staging",
        "Prod"
       ]
      }
     }
    },
    "top_k": {
     "currentValue": "5",
     "nuid": "3f0cdeb4-32b0-4351-b364-7849e19e3f36",
     "widgetInfo": {
      "widgetType": "text",
      "defaultValue": "5",
      "label": null,
      "name": "top_k",
      "options": {
       "widgetType": "text",
       "validationRegex": null
      }
     }
    }
   }
  },
  "kernelspec": {
   "display_name": "Python 3",
   "language": "python",
   "name": "python3"
  },
  "language_info": {
   "name": "python",
   "version": "3.11.4"
  }
 },
 "nbformat": 4,
 "nbformat_minor": 0
}
